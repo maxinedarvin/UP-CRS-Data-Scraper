{
  "nbformat": 4,
  "nbformat_minor": 0,
  "metadata": {
    "colab": {
      "provenance": []
    },
    "kernelspec": {
      "name": "python3",
      "display_name": "Python 3"
    },
    "language_info": {
      "name": "python"
    }
  },
  "cells": [
    {
      "cell_type": "code",
      "source": [
        "import requests\n",
        "from bs4 import BeautifulSoup\n",
        "import pandas as pd\n",
        "import re\n",
        "import string\n",
        "\n",
        "from google.colab import drive\n",
        "drive.mount('/content/drive')\n",
        "\n",
        "output_csv = \"/content/drive/My Drive/crs_schedule_A_to_Z.csv\""
      ],
      "metadata": {
        "colab": {
          "base_uri": "https://localhost:8080/"
        },
        "id": "6pU4nAfwyER_",
        "outputId": "bd81b63d-8312-4105-ee48-fe181c64a9d5"
      },
      "execution_count": null,
      "outputs": [
        {
          "output_type": "stream",
          "name": "stdout",
          "text": [
            "Drive already mounted at /content/drive; to attempt to forcibly remount, call drive.mount(\"/content/drive\", force_remount=True).\n"
          ]
        }
      ]
    },
    {
      "cell_type": "code",
      "source": [
        "def fetch_table_data(letter, base_url, headers=None):\n",
        "    url = base_url.format(letter)\n",
        "    print(f\"Fetching data for letter: {letter} from URL: {url}\")\n",
        "\n",
        "    response = requests.get(url)\n",
        "    if response.status_code != 200:\n",
        "        print(f\"Failed to retrieve data for {letter}: HTTP {response.status_code}\")\n",
        "        return None, headers\n",
        "\n",
        "    soup = BeautifulSoup(response.text, \"html.parser\")\n",
        "    table = soup.find(\"table\", id=\"tbl_schedule\")\n",
        "    if not table:\n",
        "        print(f\"No table found for letter {letter}.\")\n",
        "        return None, headers\n",
        "\n",
        "    if headers is None:\n",
        "        header_row = table.find(\"thead\").find(\"tr\")\n",
        "        headers = [th.get_text(separator=\" \", strip=True) for th in header_row.find_all(\"th\")]\n",
        "        print(\"Table headers:\", headers)\n",
        "\n",
        "    rows = []\n",
        "    for tbody in table.find_all(\"tbody\"):\n",
        "        for row in tbody.find_all(\"tr\"):\n",
        "            cells = row.find_all(\"td\")\n",
        "            cell_texts = [cell.get_text(separator=\" \", strip=True) for cell in cells]\n",
        "            if len(cell_texts) == len(headers):\n",
        "                row_data = dict(zip(headers, cell_texts))\n",
        "            else:\n",
        "                row_data = {\"Raw Data\": cell_texts}\n",
        "            row_data[\"Letter\"] = letter\n",
        "            rows.append(row_data)\n",
        "\n",
        "    return rows, headers\n",
        "\n",
        "def split_schedule_instructors_remarks(entry):\n",
        "    \"\"\"\n",
        "    Splits the 'Schedule Instructor(s) Remarks' column into:\n",
        "    - Schedule: Everything before \"Rm\", \"Room\", \"lec TBA\", pure numbers, or semicolons.\n",
        "    - Instructor(s): All-caps word(s), excluding \"TBA\", until no more valid all-caps words are found.\n",
        "    - Remarks: Everything after the last instructor(s) or starting with specific keywords like \"Hybrid\" or \"Most Online\".\n",
        "    \"\"\"\n",
        "    if pd.isnull(entry):\n",
        "        return pd.Series([None, None, None])  # Handle missing data gracefully\n",
        "\n",
        "    import re\n",
        "\n",
        "    # Match the end of the Schedule using keywords, semicolons, or a pure number\n",
        "    schedule_end_match = re.search(r'\\b(?:Rm|Room|lec TBA|\\d{3,}|TBA;|;)\\b', entry)\n",
        "    if schedule_end_match:\n",
        "        schedule_end_index = schedule_end_match.start()\n",
        "        schedule = entry[:schedule_end_index + len(schedule_end_match.group(0))].strip()  # Include full match in Schedule\n",
        "        remaining = entry[schedule_end_index + len(schedule_end_match.group(0)):].strip()  # Everything after the match\n",
        "    else:\n",
        "        # If no match is found, treat the whole entry as Schedule\n",
        "        return pd.Series([entry.strip(), None, None])\n",
        "\n",
        "    # Match all-caps words for Instructor(s), excluding \"TBA\"\n",
        "    instructors_match = re.findall(r'\\b(?:[A-Z]+(?:, [A-Z]+)?(?: [A-Z]+)*)\\b', remaining)\n",
        "    instructors = []\n",
        "    for instructor in instructors_match:\n",
        "        if \"TBA\" not in instructor:  # Exclude \"TBA\"\n",
        "            instructors.append(instructor)\n",
        "        else:\n",
        "            break\n",
        "\n",
        "    instructors = ', '.join(instructors) if instructors else None  # Join multiple names with commas\n",
        "\n",
        "    # Extract remaining text after the last instructor for Remarks\n",
        "    if instructors:\n",
        "        remaining_after_instructors = remaining.split(instructors, maxsplit=1)[-1].strip()\n",
        "    else:\n",
        "        remaining_after_instructors = remaining\n",
        "\n",
        "    # Match Remarks starting with specific keywords\n",
        "    remarks_match = re.search(r'\\b(Hybrid|Most Online|AFA Type.*)\\b', remaining_after_instructors)\n",
        "    if remarks_match:\n",
        "        remarks = remarks_match.group(0).strip()\n",
        "    else:\n",
        "        remarks = remaining_after_instructors.strip() if remaining_after_instructors else None\n",
        "\n",
        "    return pd.Series([schedule, instructors, remarks])\n",
        "\n",
        "base_url = \"https://crs.upd.edu.ph/schedule/120241/{}\"\n",
        "all_rows = []\n",
        "headers = None\n",
        "\n",
        "for letter in ['A']: # string.ascii_uppercase:   for all letters ##########\n",
        "    rows, headers = fetch_table_data(letter, base_url, headers)\n",
        "    if rows:\n",
        "        all_rows.extend(rows)\n",
        "\n",
        "df = pd.DataFrame(all_rows)\n",
        "\n",
        "df[\"Available Slots / Total Slots\"] = df[\"Available Slots / Total Slots\"].str.replace(r'\\s+', ' ', regex=True).str.strip() # fix formatting\n",
        "\n",
        "df[['Available Slots', 'Total Slots']] = df['Available Slots / Total Slots'].str.split(' / ', expand=True) # create two new columns\n",
        "\n",
        "df['Section'] = df['Class'].str.split().str[-1] # add last word from Class into Section\n",
        "df['Course'] = df['Class'].str.extract(r'^([\\D]*\\d+)') # add all words before number and the number itself, into Course\n",
        "\n",
        "# Apply the function to split the column\n",
        "df[['Schedule', 'Instructor(s)', 'Remarks']] = df['Schedule Instructor(s) Remarks'].apply(split_schedule_instructors_remarks)\n",
        "\n",
        "# Drop the original column\n",
        "df = df.drop(columns=['Schedule Instructor(s) Remarks','Letter'], errors='ignore')\n",
        "\n",
        "# df = df.drop(columns=[\"Schedule Instructor(s) Remarks\", \"Letter\", \"Raw Data\"], errors=\"ignore\") # drop combined columns\n",
        "\n",
        "print(\"\\nUpdated DataFrame (first 5 rows):\")\n",
        "print(df.head())"
      ],
      "metadata": {
        "colab": {
          "base_uri": "https://localhost:8080/"
        },
        "id": "6kvPKQ5Cxese",
        "outputId": "ce2b9c22-2779-4ad7-e3bb-7e051a131404"
      },
      "execution_count": null,
      "outputs": [
        {
          "output_type": "stream",
          "name": "stdout",
          "text": [
            "Fetching data for letter: A from URL: https://crs.upd.edu.ph/schedule/120241/A\n",
            "Table headers: ['Class Code', 'Class', 'Credits', 'Schedule Instructor(s) Remarks', 'Enlisting Unit : Block Block Remarks', 'Available Slots / Total Slots', 'Demand', 'Restrictions']\n",
            "\n",
            "Updated DataFrame (first 5 rows):\n",
            "  Class Code        Class Credits Enlisting Unit : Block Block Remarks  \\\n",
            "0      57852  AI 201 HZZQ     3.0                                  AIP   \n",
            "1      57851  AI 201 TZZQ     3.0                                  AIP   \n",
            "2      57854  AI 211 MZZQ     3.0                                  AIP   \n",
            "3      57853   AI 211 WFZ     3.0                                  AIP   \n",
            "4      57864  AI 221 TZZQ     3.0                                  AIP   \n",
            "\n",
            "  Available Slots / Total Slots Demand Restrictions Raw Data Available Slots  \\\n",
            "0                        0 / 21      0     For: AIP      NaN               0   \n",
            "1                        2 / 20      0     For: AIP      NaN               2   \n",
            "2               OVERBOOKED / 20      0     For: AIP      NaN      OVERBOOKED   \n",
            "3                        6 / 20      0     For: AIP      NaN               6   \n",
            "4                        0 / 14      0                   NaN               0   \n",
            "\n",
            "  Total Slots Section  Course                           Schedule  \\\n",
            "0          21    HZZQ  AI 201          Th 6-9PM lec AECH-ERDT Rm   \n",
            "1          20    TZZQ  AI 201           T 6-9PM lec AECH-ERDT Rm   \n",
            "2          20    MZZQ  AI 211                    M 6-9PM lec TBA   \n",
            "3          20     WFZ  AI 211  WF 5:30-7PM lec AECH-Seminar Room   \n",
            "4          14    TZZQ  AI 221                    T 6-9PM lec TBA   \n",
            "\n",
            "                                       Instructor(s)  \\\n",
            "0                                    NAVAL, PROSPERO   \n",
            "1                                    NAVAL, PROSPERO   \n",
            "2                             DALISAY, JON DEWITT, A   \n",
            "3                          REGONIA, PAUL ROSSENER, A   \n",
            "4  REMOLONA, MIGUEL FRANCISCO, DALISAY, JON DEWIT...   \n",
            "\n",
            "                                Remarks  \n",
            "0  Face-to-face lectures and evaluation  \n",
            "1  Face-to-face lectures and evaluation  \n",
            "2                                Hybrid  \n",
            "3                                Hybrid  \n",
            "4                                Hybrid  \n"
          ]
        }
      ]
    },
    {
      "cell_type": "code",
      "source": [
        "# Save DataFrame as CSV directly to Drive\n",
        "df.to_csv(output_csv, index=False)\n",
        "print(f\"\\nData saved to '{output_csv}'.\")"
      ],
      "metadata": {
        "colab": {
          "base_uri": "https://localhost:8080/"
        },
        "id": "lihbYZ-Gx-W3",
        "outputId": "3c388a76-05eb-4a59-ae84-e1385915eb52"
      },
      "execution_count": null,
      "outputs": [
        {
          "output_type": "stream",
          "name": "stdout",
          "text": [
            "Mounted at /content/drive\n",
            "\n",
            "Data saved to '/content/drive/My Drive/crs_schedule_A_to_Z.csv'.\n"
          ]
        }
      ]
    },
    {
      "cell_type": "code",
      "source": [],
      "metadata": {
        "id": "YzRRNltPxhdB"
      },
      "execution_count": null,
      "outputs": []
    }
  ]
}